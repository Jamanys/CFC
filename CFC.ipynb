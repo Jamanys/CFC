{
 "cells": [
  {
   "cell_type": "code",
   "execution_count": 10,
   "metadata": {},
   "outputs": [],
   "source": [
    "import pandas as pd\n",
    "import numpy\n",
    "import matplotlib.pyplot as plt"
   ]
  },
  {
   "cell_type": "code",
   "execution_count": 11,
   "metadata": {},
   "outputs": [],
   "source": [
    "GPS = pd.read_csv('static/csv/CFC GPS Data.csv')\n",
    "IND = pd.read_csv('static/csv/CFC Individual Priority Areas.csv')\n",
    "PHY = pd.read_csv('static/csv/CFC Physical Capability Data_.csv')\n",
    "REC = pd.read_csv('static/csv/CFC Recovery status Data.csv')"
   ]
  },
  {
   "cell_type": "markdown",
   "metadata": {},
   "source": [
    "# Exploration"
   ]
  },
  {
   "cell_type": "code",
   "execution_count": 12,
   "metadata": {},
   "outputs": [
    {
     "data": {
      "text/html": [
       "<div>\n",
       "<style scoped>\n",
       "    .dataframe tbody tr th:only-of-type {\n",
       "        vertical-align: middle;\n",
       "    }\n",
       "\n",
       "    .dataframe tbody tr th {\n",
       "        vertical-align: top;\n",
       "    }\n",
       "\n",
       "    .dataframe thead th {\n",
       "        text-align: right;\n",
       "    }\n",
       "</style>\n",
       "<table border=\"1\" class=\"dataframe\">\n",
       "  <thead>\n",
       "    <tr style=\"text-align: right;\">\n",
       "      <th></th>\n",
       "      <th>md_plus_code</th>\n",
       "      <th>md_minus_code</th>\n",
       "      <th>distance</th>\n",
       "      <th>distance_over_21</th>\n",
       "      <th>distance_over_24</th>\n",
       "      <th>distance_over_27</th>\n",
       "      <th>accel_decel_over_2_5</th>\n",
       "      <th>accel_decel_over_3_5</th>\n",
       "      <th>accel_decel_over_4_5</th>\n",
       "      <th>day_duration</th>\n",
       "      <th>peak_speed</th>\n",
       "    </tr>\n",
       "  </thead>\n",
       "  <tbody>\n",
       "    <tr>\n",
       "      <th>count</th>\n",
       "      <td>862.000000</td>\n",
       "      <td>862.000000</td>\n",
       "      <td>862.000000</td>\n",
       "      <td>862.000000</td>\n",
       "      <td>862.000000</td>\n",
       "      <td>862.000000</td>\n",
       "      <td>862.000000</td>\n",
       "      <td>862.000000</td>\n",
       "      <td>862.000000</td>\n",
       "      <td>862.000000</td>\n",
       "      <td>862.000000</td>\n",
       "    </tr>\n",
       "    <tr>\n",
       "      <th>mean</th>\n",
       "      <td>3.489559</td>\n",
       "      <td>-3.482599</td>\n",
       "      <td>4348.397275</td>\n",
       "      <td>206.384127</td>\n",
       "      <td>87.730266</td>\n",
       "      <td>32.143318</td>\n",
       "      <td>93.532909</td>\n",
       "      <td>30.914458</td>\n",
       "      <td>9.413703</td>\n",
       "      <td>62.351265</td>\n",
       "      <td>24.327300</td>\n",
       "    </tr>\n",
       "    <tr>\n",
       "      <th>std</th>\n",
       "      <td>3.246978</td>\n",
       "      <td>3.239427</td>\n",
       "      <td>2841.399651</td>\n",
       "      <td>214.513552</td>\n",
       "      <td>103.481000</td>\n",
       "      <td>43.921496</td>\n",
       "      <td>64.593942</td>\n",
       "      <td>24.278089</td>\n",
       "      <td>8.803952</td>\n",
       "      <td>35.677410</td>\n",
       "      <td>10.914528</td>\n",
       "    </tr>\n",
       "    <tr>\n",
       "      <th>min</th>\n",
       "      <td>0.000000</td>\n",
       "      <td>-10.000000</td>\n",
       "      <td>0.000000</td>\n",
       "      <td>0.000000</td>\n",
       "      <td>0.000000</td>\n",
       "      <td>0.000000</td>\n",
       "      <td>0.000000</td>\n",
       "      <td>0.000000</td>\n",
       "      <td>0.000000</td>\n",
       "      <td>0.000000</td>\n",
       "      <td>0.000000</td>\n",
       "    </tr>\n",
       "    <tr>\n",
       "      <th>25%</th>\n",
       "      <td>1.000000</td>\n",
       "      <td>-5.000000</td>\n",
       "      <td>2711.332083</td>\n",
       "      <td>40.067120</td>\n",
       "      <td>11.019218</td>\n",
       "      <td>1.239599</td>\n",
       "      <td>50.181008</td>\n",
       "      <td>14.031534</td>\n",
       "      <td>2.862817</td>\n",
       "      <td>45.343532</td>\n",
       "      <td>26.884825</td>\n",
       "    </tr>\n",
       "    <tr>\n",
       "      <th>50%</th>\n",
       "      <td>2.000000</td>\n",
       "      <td>-2.000000</td>\n",
       "      <td>4229.806525</td>\n",
       "      <td>140.624828</td>\n",
       "      <td>52.006816</td>\n",
       "      <td>14.919966</td>\n",
       "      <td>91.089483</td>\n",
       "      <td>27.642968</td>\n",
       "      <td>7.496299</td>\n",
       "      <td>67.636717</td>\n",
       "      <td>28.763600</td>\n",
       "    </tr>\n",
       "    <tr>\n",
       "      <th>75%</th>\n",
       "      <td>5.000000</td>\n",
       "      <td>-1.000000</td>\n",
       "      <td>6021.526515</td>\n",
       "      <td>292.186658</td>\n",
       "      <td>127.505919</td>\n",
       "      <td>43.802949</td>\n",
       "      <td>134.137148</td>\n",
       "      <td>44.412446</td>\n",
       "      <td>13.057154</td>\n",
       "      <td>85.325991</td>\n",
       "      <td>30.357408</td>\n",
       "    </tr>\n",
       "    <tr>\n",
       "      <th>max</th>\n",
       "      <td>10.000000</td>\n",
       "      <td>0.000000</td>\n",
       "      <td>15653.250800</td>\n",
       "      <td>1011.791940</td>\n",
       "      <td>543.629710</td>\n",
       "      <td>286.564259</td>\n",
       "      <td>326.736174</td>\n",
       "      <td>119.575568</td>\n",
       "      <td>43.411480</td>\n",
       "      <td>212.770547</td>\n",
       "      <td>32.937000</td>\n",
       "    </tr>\n",
       "  </tbody>\n",
       "</table>\n",
       "</div>"
      ],
      "text/plain": [
       "       md_plus_code  md_minus_code      distance  distance_over_21  \\\n",
       "count    862.000000     862.000000    862.000000        862.000000   \n",
       "mean       3.489559      -3.482599   4348.397275        206.384127   \n",
       "std        3.246978       3.239427   2841.399651        214.513552   \n",
       "min        0.000000     -10.000000      0.000000          0.000000   \n",
       "25%        1.000000      -5.000000   2711.332083         40.067120   \n",
       "50%        2.000000      -2.000000   4229.806525        140.624828   \n",
       "75%        5.000000      -1.000000   6021.526515        292.186658   \n",
       "max       10.000000       0.000000  15653.250800       1011.791940   \n",
       "\n",
       "       distance_over_24  distance_over_27  accel_decel_over_2_5  \\\n",
       "count        862.000000        862.000000            862.000000   \n",
       "mean          87.730266         32.143318             93.532909   \n",
       "std          103.481000         43.921496             64.593942   \n",
       "min            0.000000          0.000000              0.000000   \n",
       "25%           11.019218          1.239599             50.181008   \n",
       "50%           52.006816         14.919966             91.089483   \n",
       "75%          127.505919         43.802949            134.137148   \n",
       "max          543.629710        286.564259            326.736174   \n",
       "\n",
       "       accel_decel_over_3_5  accel_decel_over_4_5  day_duration  peak_speed  \n",
       "count            862.000000            862.000000    862.000000  862.000000  \n",
       "mean              30.914458              9.413703     62.351265   24.327300  \n",
       "std               24.278089              8.803952     35.677410   10.914528  \n",
       "min                0.000000              0.000000      0.000000    0.000000  \n",
       "25%               14.031534              2.862817     45.343532   26.884825  \n",
       "50%               27.642968              7.496299     67.636717   28.763600  \n",
       "75%               44.412446             13.057154     85.325991   30.357408  \n",
       "max              119.575568             43.411480    212.770547   32.937000  "
      ]
     },
     "execution_count": 12,
     "metadata": {},
     "output_type": "execute_result"
    }
   ],
   "source": [
    "GPS.describe()"
   ]
  },
  {
   "cell_type": "code",
   "execution_count": 13,
   "metadata": {},
   "outputs": [
    {
     "data": {
      "text/html": [
       "<div>\n",
       "<style scoped>\n",
       "    .dataframe tbody tr th:only-of-type {\n",
       "        vertical-align: middle;\n",
       "    }\n",
       "\n",
       "    .dataframe tbody tr th {\n",
       "        vertical-align: top;\n",
       "    }\n",
       "\n",
       "    .dataframe thead th {\n",
       "        text-align: right;\n",
       "    }\n",
       "</style>\n",
       "<table border=\"1\" class=\"dataframe\">\n",
       "  <thead>\n",
       "    <tr style=\"text-align: right;\">\n",
       "      <th></th>\n",
       "      <th>Priority</th>\n",
       "    </tr>\n",
       "  </thead>\n",
       "  <tbody>\n",
       "    <tr>\n",
       "      <th>count</th>\n",
       "      <td>3.0</td>\n",
       "    </tr>\n",
       "    <tr>\n",
       "      <th>mean</th>\n",
       "      <td>2.0</td>\n",
       "    </tr>\n",
       "    <tr>\n",
       "      <th>std</th>\n",
       "      <td>1.0</td>\n",
       "    </tr>\n",
       "    <tr>\n",
       "      <th>min</th>\n",
       "      <td>1.0</td>\n",
       "    </tr>\n",
       "    <tr>\n",
       "      <th>25%</th>\n",
       "      <td>1.5</td>\n",
       "    </tr>\n",
       "    <tr>\n",
       "      <th>50%</th>\n",
       "      <td>2.0</td>\n",
       "    </tr>\n",
       "    <tr>\n",
       "      <th>75%</th>\n",
       "      <td>2.5</td>\n",
       "    </tr>\n",
       "    <tr>\n",
       "      <th>max</th>\n",
       "      <td>3.0</td>\n",
       "    </tr>\n",
       "  </tbody>\n",
       "</table>\n",
       "</div>"
      ],
      "text/plain": [
       "       Priority\n",
       "count       3.0\n",
       "mean        2.0\n",
       "std         1.0\n",
       "min         1.0\n",
       "25%         1.5\n",
       "50%         2.0\n",
       "75%         2.5\n",
       "max         3.0"
      ]
     },
     "execution_count": 13,
     "metadata": {},
     "output_type": "execute_result"
    }
   ],
   "source": [
    "IND.describe()"
   ]
  },
  {
   "cell_type": "code",
   "execution_count": 14,
   "metadata": {},
   "outputs": [
    {
     "data": {
      "text/html": [
       "<div>\n",
       "<style scoped>\n",
       "    .dataframe tbody tr th:only-of-type {\n",
       "        vertical-align: middle;\n",
       "    }\n",
       "\n",
       "    .dataframe tbody tr th {\n",
       "        vertical-align: top;\n",
       "    }\n",
       "\n",
       "    .dataframe thead th {\n",
       "        text-align: right;\n",
       "    }\n",
       "</style>\n",
       "<table border=\"1\" class=\"dataframe\">\n",
       "  <thead>\n",
       "    <tr style=\"text-align: right;\">\n",
       "      <th></th>\n",
       "      <th>benchmarkPct</th>\n",
       "    </tr>\n",
       "  </thead>\n",
       "  <tbody>\n",
       "    <tr>\n",
       "      <th>count</th>\n",
       "      <td>9839.000000</td>\n",
       "    </tr>\n",
       "    <tr>\n",
       "      <th>mean</th>\n",
       "      <td>0.641032</td>\n",
       "    </tr>\n",
       "    <tr>\n",
       "      <th>std</th>\n",
       "      <td>0.194371</td>\n",
       "    </tr>\n",
       "    <tr>\n",
       "      <th>min</th>\n",
       "      <td>-0.200000</td>\n",
       "    </tr>\n",
       "    <tr>\n",
       "      <th>25%</th>\n",
       "      <td>0.490000</td>\n",
       "    </tr>\n",
       "    <tr>\n",
       "      <th>50%</th>\n",
       "      <td>0.648000</td>\n",
       "    </tr>\n",
       "    <tr>\n",
       "      <th>75%</th>\n",
       "      <td>0.772000</td>\n",
       "    </tr>\n",
       "    <tr>\n",
       "      <th>max</th>\n",
       "      <td>1.148000</td>\n",
       "    </tr>\n",
       "  </tbody>\n",
       "</table>\n",
       "</div>"
      ],
      "text/plain": [
       "       benchmarkPct\n",
       "count   9839.000000\n",
       "mean       0.641032\n",
       "std        0.194371\n",
       "min       -0.200000\n",
       "25%        0.490000\n",
       "50%        0.648000\n",
       "75%        0.772000\n",
       "max        1.148000"
      ]
     },
     "execution_count": 14,
     "metadata": {},
     "output_type": "execute_result"
    }
   ],
   "source": [
    "PHY.describe()"
   ]
  },
  {
   "cell_type": "code",
   "execution_count": 15,
   "metadata": {},
   "outputs": [
    {
     "data": {
      "text/html": [
       "<div>\n",
       "<style scoped>\n",
       "    .dataframe tbody tr th:only-of-type {\n",
       "        vertical-align: middle;\n",
       "    }\n",
       "\n",
       "    .dataframe tbody tr th {\n",
       "        vertical-align: top;\n",
       "    }\n",
       "\n",
       "    .dataframe thead th {\n",
       "        text-align: right;\n",
       "    }\n",
       "</style>\n",
       "<table border=\"1\" class=\"dataframe\">\n",
       "  <thead>\n",
       "    <tr style=\"text-align: right;\">\n",
       "      <th></th>\n",
       "      <th>value</th>\n",
       "    </tr>\n",
       "  </thead>\n",
       "  <tbody>\n",
       "    <tr>\n",
       "      <th>count</th>\n",
       "      <td>5261.000000</td>\n",
       "    </tr>\n",
       "    <tr>\n",
       "      <th>mean</th>\n",
       "      <td>0.056069</td>\n",
       "    </tr>\n",
       "    <tr>\n",
       "      <th>std</th>\n",
       "      <td>0.192026</td>\n",
       "    </tr>\n",
       "    <tr>\n",
       "      <th>min</th>\n",
       "      <td>-1.000000</td>\n",
       "    </tr>\n",
       "    <tr>\n",
       "      <th>25%</th>\n",
       "      <td>0.000000</td>\n",
       "    </tr>\n",
       "    <tr>\n",
       "      <th>50%</th>\n",
       "      <td>0.000000</td>\n",
       "    </tr>\n",
       "    <tr>\n",
       "      <th>75%</th>\n",
       "      <td>0.063333</td>\n",
       "    </tr>\n",
       "    <tr>\n",
       "      <th>max</th>\n",
       "      <td>0.903226</td>\n",
       "    </tr>\n",
       "  </tbody>\n",
       "</table>\n",
       "</div>"
      ],
      "text/plain": [
       "             value\n",
       "count  5261.000000\n",
       "mean      0.056069\n",
       "std       0.192026\n",
       "min      -1.000000\n",
       "25%       0.000000\n",
       "50%       0.000000\n",
       "75%       0.063333\n",
       "max       0.903226"
      ]
     },
     "execution_count": 15,
     "metadata": {},
     "output_type": "execute_result"
    }
   ],
   "source": [
    "REC.describe()"
   ]
  },
  {
   "cell_type": "markdown",
   "metadata": {},
   "source": [
    "# Targets"
   ]
  },
  {
   "cell_type": "code",
   "execution_count": 16,
   "metadata": {},
   "outputs": [],
   "source": [
    "#Copy data and transforming columns\n",
    "phy_data = PHY.copy()\n",
    "ind_data = IND.copy()\n",
    "rec_data = REC.copy()\n",
    "\n",
    "phy_data[\"testDate\"] = pd.to_datetime(phy_data[\"testDate\"], format=\"%d/%m/%Y\")\n",
    "ind_data[\"Target set\"] = pd.to_datetime(ind_data[\"Target set\"], format=\"%d/%m/%Y\")\n",
    "ind_data[\"Review Date\"] = pd.to_datetime(ind_data[\"Review Date\"], format=\"%d/%m/%Y\")\n",
    "rec_data[\"sessionDate\"] = pd.to_datetime(rec_data[\"sessionDate\"], format=\"%d/%m/%Y\")"
   ]
  },
  {
   "cell_type": "code",
   "execution_count": 17,
   "metadata": {},
   "outputs": [],
   "source": [
    "# Target selection\n",
    "priority_number = 3\n",
    "\n",
    "target_area = 'max velocity'\n",
    "target = 0.65 #trouver comment automatiser"
   ]
  },
  {
   "cell_type": "code",
   "execution_count": 18,
   "metadata": {},
   "outputs": [],
   "source": [
    "#target informations\n",
    "priority = ind_data[ind_data['Priority'] == priority_number]\n",
    "target_type = priority['Category'].values[0]\n",
    "priority_start = priority['Target set'].values[0]\n",
    "priority_end = priority['Review Date'].values[0]"
   ]
  },
  {
   "cell_type": "code",
   "execution_count": 19,
   "metadata": {},
   "outputs": [
    {
     "name": "stdout",
     "output_type": "stream",
     "text": [
      "max velocity\n"
     ]
    }
   ],
   "source": [
    "print(target_area)"
   ]
  },
  {
   "cell_type": "code",
   "execution_count": 20,
   "metadata": {},
   "outputs": [
    {
     "name": "stdout",
     "output_type": "stream",
     "text": [
      "Performance\n",
      "10\n"
     ]
    },
    {
     "data": {
      "text/html": [
       "<div>\n",
       "<style scoped>\n",
       "    .dataframe tbody tr th:only-of-type {\n",
       "        vertical-align: middle;\n",
       "    }\n",
       "\n",
       "    .dataframe tbody tr th {\n",
       "        vertical-align: top;\n",
       "    }\n",
       "\n",
       "    .dataframe thead th {\n",
       "        text-align: right;\n",
       "    }\n",
       "</style>\n",
       "<table border=\"1\" class=\"dataframe\">\n",
       "  <thead>\n",
       "    <tr style=\"text-align: right;\">\n",
       "      <th></th>\n",
       "      <th>testDate</th>\n",
       "      <th>expression</th>\n",
       "      <th>movement</th>\n",
       "      <th>quality</th>\n",
       "      <th>benchmarkPct</th>\n",
       "      <th>formatted_date</th>\n",
       "    </tr>\n",
       "  </thead>\n",
       "  <tbody>\n",
       "    <tr>\n",
       "      <th>113</th>\n",
       "      <td>2025-03-08</td>\n",
       "      <td>isometric</td>\n",
       "      <td>sprint</td>\n",
       "      <td>max velocity</td>\n",
       "      <td>0.7700</td>\n",
       "      <td>8 Mar 2025</td>\n",
       "    </tr>\n",
       "    <tr>\n",
       "      <th>5702</th>\n",
       "      <td>2025-03-08</td>\n",
       "      <td>dynamic</td>\n",
       "      <td>sprint</td>\n",
       "      <td>max velocity</td>\n",
       "      <td>0.6495</td>\n",
       "      <td>8 Mar 2025</td>\n",
       "    </tr>\n",
       "    <tr>\n",
       "      <th>5511</th>\n",
       "      <td>2025-03-09</td>\n",
       "      <td>dynamic</td>\n",
       "      <td>sprint</td>\n",
       "      <td>max velocity</td>\n",
       "      <td>0.6495</td>\n",
       "      <td>9 Mar 2025</td>\n",
       "    </tr>\n",
       "    <tr>\n",
       "      <th>9076</th>\n",
       "      <td>2025-03-09</td>\n",
       "      <td>isometric</td>\n",
       "      <td>sprint</td>\n",
       "      <td>max velocity</td>\n",
       "      <td>0.7700</td>\n",
       "      <td>9 Mar 2025</td>\n",
       "    </tr>\n",
       "    <tr>\n",
       "      <th>5244</th>\n",
       "      <td>2025-03-10</td>\n",
       "      <td>isometric</td>\n",
       "      <td>sprint</td>\n",
       "      <td>max velocity</td>\n",
       "      <td>0.7700</td>\n",
       "      <td>10 Mar 2025</td>\n",
       "    </tr>\n",
       "  </tbody>\n",
       "</table>\n",
       "</div>"
      ],
      "text/plain": [
       "       testDate expression movement       quality  benchmarkPct formatted_date\n",
       "113  2025-03-08  isometric   sprint  max velocity        0.7700     8 Mar 2025\n",
       "5702 2025-03-08    dynamic   sprint  max velocity        0.6495     8 Mar 2025\n",
       "5511 2025-03-09    dynamic   sprint  max velocity        0.6495     9 Mar 2025\n",
       "9076 2025-03-09  isometric   sprint  max velocity        0.7700     9 Mar 2025\n",
       "5244 2025-03-10  isometric   sprint  max velocity        0.7700    10 Mar 2025"
      ]
     },
     "execution_count": 20,
     "metadata": {},
     "output_type": "execute_result"
    }
   ],
   "source": [
    "#Dataset Filtering\n",
    "\n",
    "if target_type == \"Performance\":\n",
    "    print(\"Performance\")\n",
    "    target_data = phy_data[(phy_data[\"quality\"] == target_area.lower()) & (phy_data['testDate']>priority_start) & (phy_data['testDate']<priority_end)]\n",
    "    target_data = target_data.dropna()\n",
    "    target_data = target_data.sort_values(by=[\"testDate\"])\n",
    "    target_data[\"formatted_date\"] = target_data[\"testDate\"].dt.strftime(\"%-d %b %Y\")\n",
    "elif target_type == \"Recovery\" :\n",
    "    print(\"Recovery\")\n",
    "    target_data = rec_data[(rec_data[\"category\"]== target_area.lower()) & (rec_data['sessionDate']>priority_start) & (rec_data['sessionDate']<priority_end)]\n",
    "    target_data = target_data.dropna()\n",
    "    target_data = target_data.sort_values(by=[\"testDate\"])\n",
    "    target_data[\"formatted_date\"] = target_data[\"testDate\"].dt.strftime(\"%-d %b %Y\")\n",
    "else : \n",
    "    print('wtf')\n",
    "    \n",
    "print(len(target_data))\n",
    "target_data.head()"
   ]
  },
  {
   "cell_type": "code",
   "execution_count": 21,
   "metadata": {},
   "outputs": [
    {
     "data": {
      "image/png": "[encoded data removed]",
      "text/plain": [
       "<Figure size 800x500 with 1 Axes>"
      ]
     },
     "metadata": {},
     "output_type": "display_data"
    },
    {
     "name": "stdout",
     "output_type": "stream",
     "text": [
      "obj : 0.6465\n",
      "max : 0.77\n",
      "avg : 0.70915\n",
      "suc : True\n"
     ]
    }
   ],
   "source": [
    "#Ploting\n",
    "plt.figure(figsize=(8, 5))\n",
    "plt.plot(target_data[\"formatted_date\"], target_data[\"benchmarkPct\"], marker='o', linestyle='-')\n",
    "plt.axhline(y=target, color='red', linestyle='--', label='Objective')\n",
    "plt.xlabel(\"Date\")\n",
    "plt.ylabel(\"Benchmark %\")\n",
    "plt.xticks(rotation=90)\n",
    "plt.title(\"Progression of Benchmark % Over Time\")\n",
    "plt.grid()\n",
    "plt.show()\n",
    "\n",
    "print('obj :' ,target_data[\"benchmarkPct\"].min())\n",
    "print('max :' ,target_data[\"benchmarkPct\"].max())\n",
    "print('avg :' ,target_data[\"benchmarkPct\"].mean())\n",
    "print('suc :' ,target_data[\"benchmarkPct\"].max()> target)"
   ]
  },
  {
   "cell_type": "code",
   "execution_count": 22,
   "metadata": {},
   "outputs": [
    {
     "name": "stdout",
     "output_type": "stream",
     "text": [
      "['upper body' 'agility' 'jump' 'sprint']\n"
     ]
    },
    {
     "data": {
      "text/plain": [
       "array(['acceleration', 'max velocity'], dtype=object)"
      ]
     },
     "execution_count": 22,
     "metadata": {},
     "output_type": "execute_result"
    }
   ],
   "source": [
    "print(phy_data['movement'].unique())\n",
    "t = phy_data[phy_data['movement']==\"sprint\"]\n",
    "t['quality'].unique()\n",
    "\n",
    "\n"
   ]
  }
 ],
 "metadata": {
  "kernelspec": {
   "display_name": "Python 3",
   "language": "python",
   "name": "python3"
  },
  "language_info": {
   "codemirror_mode": {
    "name": "ipython",
    "version": 3
   },
   "file_extension": ".py",
   "mimetype": "text/x-python",
   "name": "python",
   "nbconvert_exporter": "python",
   "pygments_lexer": "ipython3",
   "version": "3.9.6"
  }
 },
 "nbformat": 4,
 "nbformat_minor": 2
}
